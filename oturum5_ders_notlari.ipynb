{
  "nbformat": 4,
  "nbformat_minor": 0,
  "metadata": {
    "colab": {
      "name": "Untitled1.ipynb",
      "provenance": [],
      "authorship_tag": "ABX9TyN5AM9m3DrEt3Zd1LSxpKhG",
      "include_colab_link": true
    },
    "kernelspec": {
      "name": "python3",
      "display_name": "Python 3"
    }
  },
  "cells": [
    {
      "cell_type": "markdown",
      "metadata": {
        "id": "view-in-github",
        "colab_type": "text"
      },
      "source": [
        "<a href=\"https://colab.research.google.com/github/yagmur5881/programc-/blob/master/5.seri.ipynb\" target=\"_parent\"><img src=\"https://colab.research.google.com/assets/colab-badge.svg\" alt=\"Open In Colab\"/></a>"
      ]
    },
    {
      "cell_type": "code",
      "metadata": {
        "id": "Lli2WIkm7Otm",
        "colab_type": "code",
        "colab": {
          "base_uri": "https://localhost:8080/",
          "height": 527
        },
        "outputId": "341477c8-6828-4061-bd74-5a13b4fc468c"
      },
      "source": [
        "for fizzbuzz in range(30):\n",
        "    if fizzbuzz % 3 == 0 and fizzbuzz % 5 == 0:\n",
        "        print(\"fizzbuzz\")\n",
        "        continue\n",
        "    elif fizzbuzz % 3 == 0:\n",
        "        print(\"fizz\")\n",
        "        continue\n",
        "    elif fizzbuzz % 5 == 0:\n",
        "        print(\"buzz\")\n",
        "        continue\n",
        "    print(fizzbuzz)\n"
      ],
      "execution_count": 2,
      "outputs": [
        {
          "output_type": "stream",
          "text": [
            "fizzbuzz\n",
            "1\n",
            "2\n",
            "fizz\n",
            "4\n",
            "buzz\n",
            "fizz\n",
            "7\n",
            "8\n",
            "fizz\n",
            "buzz\n",
            "11\n",
            "fizz\n",
            "13\n",
            "14\n",
            "fizzbuzz\n",
            "16\n",
            "17\n",
            "fizz\n",
            "19\n",
            "buzz\n",
            "fizz\n",
            "22\n",
            "23\n",
            "fizz\n",
            "buzz\n",
            "26\n",
            "fizz\n",
            "28\n",
            "29\n"
          ],
          "name": "stdout"
        }
      ]
    },
    {
      "cell_type": "code",
      "metadata": {
        "id": "P52XZ3vX-EMq",
        "colab_type": "code",
        "colab": {}
      },
      "source": [
        "def fizz_buzz_test (x):\n",
        "  for number in range(x):\n",
        "    fizz_buzz = \"\"\n",
        "    if number % 3 == 0 :\n",
        "     fizz_buzz +=\"fizz\"\n",
        "     if number % 5 == 0 :\n",
        "      fizz_buzz +=\"buzz\"\n",
        "    print(f\"{number}{fizz_buzz}\")\n",
        "    x=int (input(\"0 dan kaca kadar değerler denetlensin\"))\n",
        "    fizz_buzz_test(x)"
      ],
      "execution_count": 19,
      "outputs": []
    },
    {
      "cell_type": "code",
      "metadata": {
        "id": "4gV_hm64_S5k",
        "colab_type": "code",
        "colab": {
          "base_uri": "https://localhost:8080/",
          "height": 34
        },
        "outputId": "121a82ac-e512-4b89-ed39-388eddaf5876"
      },
      "source": [
        "list =[3,4,5,78]\n",
        "list.append(33)\n",
        "print(list[4])"
      ],
      "execution_count": 20,
      "outputs": [
        {
          "output_type": "stream",
          "text": [
            "33\n"
          ],
          "name": "stdout"
        }
      ]
    },
    {
      "cell_type": "code",
      "metadata": {
        "id": "74tXMFebACTK",
        "colab_type": "code",
        "colab": {
          "base_uri": "https://localhost:8080/",
          "height": 68
        },
        "outputId": "c63a6f53-c6cd-4585-d1c0-d5eaaba744ef"
      },
      "source": [
        "list =[3,4,5,78]\n",
        "list.append(33)\n",
        "print(list[4])\n",
        "dictionary ={\"door\":\"kapı\",\"dest\":\"masa\"}\n",
        "print(dictionary)\n",
        "dliste=dictionary ={0:3,1:4,2:6}\n",
        "print(dictionary)"
      ],
      "execution_count": 22,
      "outputs": [
        {
          "output_type": "stream",
          "text": [
            "33\n",
            "{'door': 'kapı', 'dest': 'masa'}\n",
            "{0: 3, 1: 4, 2: 6}\n"
          ],
          "name": "stdout"
        }
      ]
    },
    {
      "cell_type": "code",
      "metadata": {
        "id": "5LJIMxgrCezV",
        "colab_type": "code",
        "colab": {
          "base_uri": "https://localhost:8080/",
          "height": 34
        },
        "outputId": "0f6c8194-dab5-4b1c-d427-2cc08092bdd7"
      },
      "source": [
        "print(dictionary.get(\"ant\",\"hello\"))"
      ],
      "execution_count": 34,
      "outputs": [
        {
          "output_type": "stream",
          "text": [
            "hello\n"
          ],
          "name": "stdout"
        }
      ]
    },
    {
      "cell_type": "code",
      "metadata": {
        "id": "yTWIjYu2DHwW",
        "colab_type": "code",
        "colab": {
          "base_uri": "https://localhost:8080/",
          "height": 34
        },
        "outputId": "86eda7ad-3369-4e98-b728-58b0628648e0"
      },
      "source": [
        "bool (dictionary.get(\"yok\"))"
      ],
      "execution_count": 35,
      "outputs": [
        {
          "output_type": "execute_result",
          "data": {
            "text/plain": [
              "False"
            ]
          },
          "metadata": {
            "tags": []
          },
          "execution_count": 35
        }
      ]
    },
    {
      "cell_type": "code",
      "metadata": {
        "id": "tgCJdb2HDpSH",
        "colab_type": "code",
        "colab": {
          "base_uri": "https://localhost:8080/",
          "height": 34
        },
        "outputId": "c7f3e961-ed11-4158-ae4c-fe34415495e4"
      },
      "source": [
        "if dictionary.get(\"ant\"):\n",
        "    print(\"var\")\n",
        "else:\n",
        "    print(\"yok\")\n",
        "\n"
      ],
      "execution_count": 38,
      "outputs": [
        {
          "output_type": "stream",
          "text": [
            "yok\n"
          ],
          "name": "stdout"
        }
      ]
    },
    {
      "cell_type": "code",
      "metadata": {
        "id": "htTCyqRKEL6h",
        "colab_type": "code",
        "colab": {
          "base_uri": "https://localhost:8080/",
          "height": 129
        },
        "outputId": "f5d91695-c0e6-469a-b8e9-ce839698c12a"
      },
      "source": [
        "def fizz_buzz_test (x):\n",
        "  dictionary=dict()\n",
        "  for number in range(x):\n",
        "    fizz_buzz=\"\"\n",
        "  if number % 3 == 0:\n",
        "    fizz_buzz +=\"fizz\"\n",
        "  if number % 5 == 0:\n",
        "      fizz_buzz +=\"buzz\"\n",
        "      if fizz_buzz:\n",
        "        if not dictionary.get(fizz_buzz):\n",
        "          dictionary[fizz_buzz]=list()\n",
        "          dictionary[fizz_buzz].append(number)\n",
        "return dictionary\n",
        "x=int (input(\"0 dan kaca kadar değerler denetlensin\"))\n",
        "result =fizz_buzz_test(x)\n",
        "print(result)\n",
        "\n"
      ],
      "execution_count": 59,
      "outputs": [
        {
          "output_type": "error",
          "ename": "SyntaxError",
          "evalue": "ignored",
          "traceback": [
            "\u001b[0;36m  File \u001b[0;32m\"<ipython-input-59-fdc1ab82df6d>\"\u001b[0;36m, line \u001b[0;32m13\u001b[0m\n\u001b[0;31m    return dictionary\u001b[0m\n\u001b[0m                     ^\u001b[0m\n\u001b[0;31mSyntaxError\u001b[0m\u001b[0;31m:\u001b[0m 'return' outside function\n"
          ]
        }
      ]
    },
    {
      "cell_type": "code",
      "metadata": {
        "id": "NndMeH1cHLTz",
        "colab_type": "code",
        "colab": {}
      },
      "source": [
        ""
      ],
      "execution_count": null,
      "outputs": []
    }
  ]
}