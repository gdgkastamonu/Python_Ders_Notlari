{
 "cells": [
  {
   "cell_type": "code",
   "execution_count": 10,
   "metadata": {},
   "outputs": [
    {
     "ename": "SyntaxError",
     "evalue": "invalid syntax (<ipython-input-10-20e2c085fe93>, line 11)",
     "output_type": "error",
     "traceback": [
      "\u001b[1;36m  File \u001b[1;32m\"<ipython-input-10-20e2c085fe93>\"\u001b[1;36m, line \u001b[1;32m11\u001b[0m\n\u001b[1;33m    {\"user\":\"hakan\":\"pasaport\":\"1234\"}\u001b[0m\n\u001b[1;37m    ^\u001b[0m\n\u001b[1;31mSyntaxError\u001b[0m\u001b[1;31m:\u001b[0m invalid syntax\n"
     ]
    }
   ],
   "source": [
    "cities=list()\n",
    "type (cities)\n",
    "dir(cities)\n",
    "cities. Append(İstanbul)\n",
    "cities.reverse()\n",
    "cities. sort ()\n",
    "cities. Pop()\n",
    "cities. Clear()\n",
    "other_list=[\n",
    "\"Ercan\", true,false,30.0,1,2[1,2,3,4],(1,2,3,4)\n",
    "{\"user\":\"hakan\":\"pasaport\":\"1234\"}\n"
   ]
  },
  {
   "cell_type": "code",
   "execution_count": 6,
   "metadata": {},
   "outputs": [
    {
     "ename": "SyntaxError",
     "evalue": "invalid syntax (<ipython-input-6-4329dd05d099>, line 2)",
     "output_type": "error",
     "traceback": [
      "\u001b[1;36m  File \u001b[1;32m\"<ipython-input-6-4329dd05d099>\"\u001b[1;36m, line \u001b[1;32m2\u001b[0m\n\u001b[1;33m    for kişi in kişiler\u001b[0m\n\u001b[1;37m                       ^\u001b[0m\n\u001b[1;31mSyntaxError\u001b[0m\u001b[1;31m:\u001b[0m invalid syntax\n"
     ]
    }
   ],
   "source": [
    "kişiler=[[173,73.7,56],[181,89,8],[176,56,8]]\n",
    "for kişi in kişiler\n",
    "print (kişi[0]\\100)"
   ]
  },
  {
   "cell_type": "code",
   "execution_count": 12,
   "metadata": {},
   "outputs": [
    {
     "ename": "IndentationError",
     "evalue": "expected an indented block (<ipython-input-12-9b13980ea073>, line 3)",
     "output_type": "error",
     "traceback": [
      "\u001b[1;36m  File \u001b[1;32m\"<ipython-input-12-9b13980ea073>\"\u001b[1;36m, line \u001b[1;32m3\u001b[0m\n\u001b[1;33m    for  bilgi in person :\u001b[0m\n\u001b[1;37m      ^\u001b[0m\n\u001b[1;31mIndentationError\u001b[0m\u001b[1;31m:\u001b[0m expected an indented block\n"
     ]
    }
   ],
   "source": [
    "people =[[153,73.6,24],[131,98.8,24][166,78.8,89]]\n",
    "for person in people:\n",
    "for  bilgi in person :\n",
    "print (bilgi, \"\", end '')\n"
   ]
  },
  {
   "cell_type": "code",
   "execution_count": 11,
   "metadata": {},
   "outputs": [
    {
     "ename": "SyntaxError",
     "evalue": "invalid syntax (<ipython-input-11-16b598b82b26>, line 1)",
     "output_type": "error",
     "traceback": [
      "\u001b[1;36m  File \u001b[1;32m\"<ipython-input-11-16b598b82b26>\"\u001b[1;36m, line \u001b[1;32m1\u001b[0m\n\u001b[1;33m    def  showdate(date-set)\u001b[0m\n\u001b[1;37m                      ^\u001b[0m\n\u001b[1;31mSyntaxError\u001b[0m\u001b[1;31m:\u001b[0m invalid syntax\n"
     ]
    }
   ],
   "source": [
    "def  showdate(date-set)\n",
    "print(len( date-set), \"rows\")\n",
    "for row in date-set :\n",
    "for data in row:\n",
    "print(data, \"\", end =\"\")\n",
    "print show(kişiler)\n",
    "print show(people)"
   ]
  },
  {
   "cell_type": "code",
   "execution_count": null,
   "metadata": {},
   "outputs": [],
   "source": []
  }
 ],
 "metadata": {
  "kernelspec": {
   "display_name": "Python 3",
   "language": "python",
   "name": "python3"
  },
  "language_info": {
   "codemirror_mode": {
    "name": "ipython",
    "version": 3
   },
   "file_extension": ".py",
   "mimetype": "text/x-python",
   "name": "python",
   "nbconvert_exporter": "python",
   "pygments_lexer": "ipython3",
   "version": "3.7.6"
  }
 },
 "nbformat": 4,
 "nbformat_minor": 4
}
