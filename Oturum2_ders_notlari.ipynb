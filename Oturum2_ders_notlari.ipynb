{
  "nbformat": 4,
  "nbformat_minor": 0,
  "metadata": {
    "colab": {
      "name": "2.seri.ipynb",
      "provenance": [],
      "collapsed_sections": [],
      "authorship_tag": "ABX9TyPQWhWa7E4iJa4SGPOw/f/E",
      "include_colab_link": true
    },
    "kernelspec": {
      "name": "python3",
      "display_name": "Python 3"
    }
  },
  "cells": [
    {
      "cell_type": "markdown",
      "metadata": {
        "id": "view-in-github",
        "colab_type": "text"
      },
      "source": [
        "<a href=\"https://colab.research.google.com/github/yagmur5881/programc-/blob/master/2_seri.ipynb\" target=\"_parent\"><img src=\"https://colab.research.google.com/assets/colab-badge.svg\" alt=\"Open In Colab\"/></a>"
      ]
    },
    {
      "cell_type": "code",
      "metadata": {
        "id": "U8WnYeNUdMCH",
        "colab_type": "code",
        "colab": {}
      },
      "source": [
        "#bu kodlar python öğreniyorm serisinin 2.oturumuna ait kodlar konularımız aritmatik operatörler ve print ve input kullanımı "
      ],
      "execution_count": null,
      "outputs": []
    },
    {
      "cell_type": "code",
      "metadata": {
        "id": "sGHM2hx9ZG2E",
        "colab_type": "code",
        "colab": {
          "base_uri": "https://localhost:8080/",
          "height": 34
        },
        "outputId": "a97025ff-b1a2-4d3b-a445-78cc7e4304ea"
      },
      "source": [
        "print('merbaha dünya') "
      ],
      "execution_count": 1,
      "outputs": [
        {
          "output_type": "stream",
          "text": [
            "merbaha dünya\n"
          ],
          "name": "stdout"
        }
      ]
    },
    {
      "cell_type": "code",
      "metadata": {
        "id": "uqg9XFYAa5nR",
        "colab_type": "code",
        "colab": {
          "base_uri": "https://localhost:8080/",
          "height": 34
        },
        "outputId": "1912123e-5891-40c0-99f8-f29e04efdd72"
      },
      "source": [
        "print(3+3)"
      ],
      "execution_count": 2,
      "outputs": [
        {
          "output_type": "stream",
          "text": [
            "6\n"
          ],
          "name": "stdout"
        }
      ]
    },
    {
      "cell_type": "code",
      "metadata": {
        "id": "O-p6TKWhbChx",
        "colab_type": "code",
        "colab": {
          "base_uri": "https://localhost:8080/",
          "height": 69
        },
        "outputId": "4da93386-dbc4-4758-8b2a-af29e43e7091"
      },
      "source": [
        "ad=input('adınızı giriniz')\n",
        "input('girilen ad ='+ad)\n",
        "\n"
      ],
      "execution_count": 3,
      "outputs": [
        {
          "output_type": "stream",
          "text": [
            "adınızı girinizyağmur\n",
            "girilen ad =yağmur\n"
          ],
          "name": "stdout"
        },
        {
          "output_type": "execute_result",
          "data": {
            "application/vnd.google.colaboratory.intrinsic+json": {
              "type": "string"
            },
            "text/plain": [
              "''"
            ]
          },
          "metadata": {
            "tags": []
          },
          "execution_count": 3
        }
      ]
    },
    {
      "cell_type": "code",
      "metadata": {
        "id": "tqTQKiH-cClf",
        "colab_type": "code",
        "colab": {
          "base_uri": "https://localhost:8080/",
          "height": 34
        },
        "outputId": "9cf12932-e3e9-494e-b7a3-1da76ed03164"
      },
      "source": [
        "z=\"araba\"\n",
        "print(z)\n"
      ],
      "execution_count": 4,
      "outputs": [
        {
          "output_type": "stream",
          "text": [
            "araba\n"
          ],
          "name": "stdout"
        }
      ]
    },
    {
      "cell_type": "code",
      "metadata": {
        "id": "-WB-lYnBcGVy",
        "colab_type": "code",
        "colab": {
          "base_uri": "https://localhost:8080/",
          "height": 34
        },
        "outputId": "8ed72b55-cf5a-4e98-aca1-7508ae3bdfa7"
      },
      "source": [
        "isim='ahmet'\n",
        "print(isim)\n"
      ],
      "execution_count": 5,
      "outputs": [
        {
          "output_type": "stream",
          "text": [
            "ahmet\n"
          ],
          "name": "stdout"
        }
      ]
    },
    {
      "cell_type": "code",
      "metadata": {
        "id": "P-BI05iXcScQ",
        "colab_type": "code",
        "colab": {
          "base_uri": "https://localhost:8080/",
          "height": 34
        },
        "outputId": "57f0b343-ce3e-464e-826b-cfb1458973ca"
      },
      "source": [
        "x=5\n",
        "print(type(x))#değikenin tipini gösterir"
      ],
      "execution_count": 6,
      "outputs": [
        {
          "output_type": "stream",
          "text": [
            "<class 'int'>\n"
          ],
          "name": "stdout"
        }
      ]
    },
    {
      "cell_type": "code",
      "metadata": {
        "id": "3h6De5FEcoJS",
        "colab_type": "code",
        "colab": {
          "base_uri": "https://localhost:8080/",
          "height": 51
        },
        "outputId": "78321162-a4b8-45b1-a5df-211e6467bd16"
      },
      "source": [
        "print(\"ali\"+\"veli\")\n",
        "print(\"aliveli\")#yazıları birleştirme"
      ],
      "execution_count": 7,
      "outputs": [
        {
          "output_type": "stream",
          "text": [
            "aliveli\n",
            "aliveli\n"
          ],
          "name": "stdout"
        }
      ]
    },
    {
      "cell_type": "code",
      "metadata": {
        "id": "GbX-1oD8cz5y",
        "colab_type": "code",
        "colab": {
          "base_uri": "https://localhost:8080/",
          "height": 102
        },
        "outputId": "c76885f2-7dd5-4d7a-f305-70e8bb797819"
      },
      "source": [
        "a=input(\"değer giriiniz\")\n",
        "b=input(\"değer giriiniz\")\n",
        "print(type(a),type(b))#tipini gösterir\n",
        "print(\"ilkinde toplam bilgisi\",a+b)#birleşik yazar\n",
        "print(\"yanyana yaz \",a,b)#yanyana yazar\n"
      ],
      "execution_count": 8,
      "outputs": [
        {
          "output_type": "stream",
          "text": [
            "değer giriiniz10\n",
            "değer giriiniz20\n",
            "<class 'str'> <class 'str'>\n",
            "ilkinde toplam bilgisi 1020\n",
            "yanyana yaz  10 20\n"
          ],
          "name": "stdout"
        }
      ]
    },
    {
      "cell_type": "code",
      "metadata": {
        "id": "RMC-o6yEd-XO",
        "colab_type": "code",
        "colab": {
          "base_uri": "https://localhost:8080/",
          "height": 34
        },
        "outputId": "9f8cd6f3-5ade-4cbf-d8e6-827b720977da"
      },
      "source": [
        "k=\"ev\"\n",
        "k.isupper()"
      ],
      "execution_count": 9,
      "outputs": [
        {
          "output_type": "execute_result",
          "data": {
            "text/plain": [
              "False"
            ]
          },
          "metadata": {
            "tags": []
          },
          "execution_count": 9
        }
      ]
    },
    {
      "cell_type": "code",
      "metadata": {
        "id": "8Ahd1UYRgtn6",
        "colab_type": "code",
        "colab": {
          "base_uri": "https://localhost:8080/",
          "height": 34
        },
        "outputId": "64693104-9760-4668-aa0b-2713cfb51337"
      },
      "source": [
        "p=\"EV\"\n",
        "p.isupper()\n"
      ],
      "execution_count": 10,
      "outputs": [
        {
          "output_type": "execute_result",
          "data": {
            "text/plain": [
              "True"
            ]
          },
          "metadata": {
            "tags": []
          },
          "execution_count": 10
        }
      ]
    }
  ]
}